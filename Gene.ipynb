{
 "cells": [
  {
   "cell_type": "markdown",
   "metadata": {},
   "source": [
    "# Data Mining Project - Gene data"
   ]
  },
  {
   "cell_type": "markdown",
   "metadata": {},
   "source": [
    "Sean Deloddere - 914691 <br>\n",
    "Giulio Marcon - "
   ]
  },
  {
   "cell_type": "markdown",
   "metadata": {},
   "source": [
    "## Load in data"
   ]
  },
  {
   "cell_type": "code",
   "execution_count": 1,
   "metadata": {},
   "outputs": [],
   "source": [
    "import pandas as pd\n",
    "import numpy as np\n",
    "import matplotlib.pyplot as plt\n",
    "plt.rcParams[\"figure.figsize\"] = (20,10)"
   ]
  },
  {
   "cell_type": "code",
   "execution_count": 2,
   "metadata": {},
   "outputs": [
    {
     "data": {
      "text/html": [
       "<div>\n",
       "<style scoped>\n",
       "    .dataframe tbody tr th:only-of-type {\n",
       "        vertical-align: middle;\n",
       "    }\n",
       "\n",
       "    .dataframe tbody tr th {\n",
       "        vertical-align: top;\n",
       "    }\n",
       "\n",
       "    .dataframe thead th {\n",
       "        text-align: right;\n",
       "    }\n",
       "</style>\n",
       "<table border=\"1\" class=\"dataframe\">\n",
       "  <thead>\n",
       "    <tr style=\"text-align: right;\">\n",
       "      <th></th>\n",
       "      <th>class</th>\n",
       "      <th>f1</th>\n",
       "      <th>f2</th>\n",
       "      <th>f3</th>\n",
       "      <th>f4</th>\n",
       "      <th>f5</th>\n",
       "      <th>f6</th>\n",
       "      <th>f7</th>\n",
       "      <th>f8</th>\n",
       "      <th>f9</th>\n",
       "      <th>...</th>\n",
       "      <th>f6991</th>\n",
       "      <th>f6992</th>\n",
       "      <th>f6993</th>\n",
       "      <th>f6994</th>\n",
       "      <th>f6995</th>\n",
       "      <th>f6996</th>\n",
       "      <th>f6997</th>\n",
       "      <th>f6998</th>\n",
       "      <th>f6999</th>\n",
       "      <th>f7000</th>\n",
       "    </tr>\n",
       "    <tr>\n",
       "      <th>id</th>\n",
       "      <th></th>\n",
       "      <th></th>\n",
       "      <th></th>\n",
       "      <th></th>\n",
       "      <th></th>\n",
       "      <th></th>\n",
       "      <th></th>\n",
       "      <th></th>\n",
       "      <th></th>\n",
       "      <th></th>\n",
       "      <th></th>\n",
       "      <th></th>\n",
       "      <th></th>\n",
       "      <th></th>\n",
       "      <th></th>\n",
       "      <th></th>\n",
       "      <th></th>\n",
       "      <th></th>\n",
       "      <th></th>\n",
       "      <th></th>\n",
       "      <th></th>\n",
       "    </tr>\n",
       "  </thead>\n",
       "  <tbody>\n",
       "    <tr>\n",
       "      <th>1</th>\n",
       "      <td>5</td>\n",
       "      <td>2.3383</td>\n",
       "      <td>10.5440</td>\n",
       "      <td>11.4653</td>\n",
       "      <td>10.4441</td>\n",
       "      <td>10.6311</td>\n",
       "      <td>7.7036</td>\n",
       "      <td>9.6444</td>\n",
       "      <td>7.8501</td>\n",
       "      <td>7.7853</td>\n",
       "      <td>...</td>\n",
       "      <td>11.9394</td>\n",
       "      <td>11.1349</td>\n",
       "      <td>5.7066</td>\n",
       "      <td>8.2176</td>\n",
       "      <td>9.9062</td>\n",
       "      <td>9.0815</td>\n",
       "      <td>10.5098</td>\n",
       "      <td>11.8648</td>\n",
       "      <td>8.4341</td>\n",
       "      <td>6.7618</td>\n",
       "    </tr>\n",
       "    <tr>\n",
       "      <th>2</th>\n",
       "      <td>4</td>\n",
       "      <td>3.9151</td>\n",
       "      <td>9.5815</td>\n",
       "      <td>10.3992</td>\n",
       "      <td>9.8333</td>\n",
       "      <td>8.9781</td>\n",
       "      <td>7.0265</td>\n",
       "      <td>9.2761</td>\n",
       "      <td>7.3903</td>\n",
       "      <td>8.2744</td>\n",
       "      <td>...</td>\n",
       "      <td>11.6547</td>\n",
       "      <td>7.7178</td>\n",
       "      <td>9.3558</td>\n",
       "      <td>7.5026</td>\n",
       "      <td>10.2106</td>\n",
       "      <td>8.9278</td>\n",
       "      <td>10.2466</td>\n",
       "      <td>11.3329</td>\n",
       "      <td>7.8209</td>\n",
       "      <td>7.4350</td>\n",
       "    </tr>\n",
       "    <tr>\n",
       "      <th>3</th>\n",
       "      <td>5</td>\n",
       "      <td>2.9322</td>\n",
       "      <td>9.3102</td>\n",
       "      <td>11.0756</td>\n",
       "      <td>9.8490</td>\n",
       "      <td>9.4291</td>\n",
       "      <td>8.0618</td>\n",
       "      <td>8.3874</td>\n",
       "      <td>7.9274</td>\n",
       "      <td>10.0544</td>\n",
       "      <td>...</td>\n",
       "      <td>11.9372</td>\n",
       "      <td>11.2369</td>\n",
       "      <td>6.5860</td>\n",
       "      <td>9.1668</td>\n",
       "      <td>10.3315</td>\n",
       "      <td>9.7551</td>\n",
       "      <td>11.4392</td>\n",
       "      <td>10.7036</td>\n",
       "      <td>8.0041</td>\n",
       "      <td>8.5380</td>\n",
       "    </tr>\n",
       "    <tr>\n",
       "      <th>4</th>\n",
       "      <td>5</td>\n",
       "      <td>3.9470</td>\n",
       "      <td>8.5315</td>\n",
       "      <td>10.9836</td>\n",
       "      <td>9.3676</td>\n",
       "      <td>9.6856</td>\n",
       "      <td>7.5842</td>\n",
       "      <td>8.5774</td>\n",
       "      <td>8.3737</td>\n",
       "      <td>9.0443</td>\n",
       "      <td>...</td>\n",
       "      <td>13.2541</td>\n",
       "      <td>11.8221</td>\n",
       "      <td>9.5261</td>\n",
       "      <td>7.4231</td>\n",
       "      <td>11.2862</td>\n",
       "      <td>9.8992</td>\n",
       "      <td>10.4067</td>\n",
       "      <td>11.9044</td>\n",
       "      <td>7.9843</td>\n",
       "      <td>8.5370</td>\n",
       "    </tr>\n",
       "    <tr>\n",
       "      <th>5</th>\n",
       "      <td>1</td>\n",
       "      <td>4.4618</td>\n",
       "      <td>9.1392</td>\n",
       "      <td>10.9183</td>\n",
       "      <td>10.0490</td>\n",
       "      <td>9.8290</td>\n",
       "      <td>6.5658</td>\n",
       "      <td>9.8122</td>\n",
       "      <td>9.0646</td>\n",
       "      <td>8.3383</td>\n",
       "      <td>...</td>\n",
       "      <td>11.6416</td>\n",
       "      <td>11.5142</td>\n",
       "      <td>6.5539</td>\n",
       "      <td>7.8319</td>\n",
       "      <td>11.0100</td>\n",
       "      <td>10.1013</td>\n",
       "      <td>11.2682</td>\n",
       "      <td>10.8969</td>\n",
       "      <td>8.1959</td>\n",
       "      <td>8.2906</td>\n",
       "    </tr>\n",
       "  </tbody>\n",
       "</table>\n",
       "<p>5 rows × 7001 columns</p>\n",
       "</div>"
      ],
      "text/plain": [
       "    class      f1       f2       f3       f4       f5      f6      f7      f8  \\\n",
       "id                                                                              \n",
       "1       5  2.3383  10.5440  11.4653  10.4441  10.6311  7.7036  9.6444  7.8501   \n",
       "2       4  3.9151   9.5815  10.3992   9.8333   8.9781  7.0265  9.2761  7.3903   \n",
       "3       5  2.9322   9.3102  11.0756   9.8490   9.4291  8.0618  8.3874  7.9274   \n",
       "4       5  3.9470   8.5315  10.9836   9.3676   9.6856  7.5842  8.5774  8.3737   \n",
       "5       1  4.4618   9.1392  10.9183  10.0490   9.8290  6.5658  9.8122  9.0646   \n",
       "\n",
       "         f9  ...    f6991    f6992   f6993   f6994    f6995    f6996    f6997  \\\n",
       "id           ...                                                                \n",
       "1    7.7853  ...  11.9394  11.1349  5.7066  8.2176   9.9062   9.0815  10.5098   \n",
       "2    8.2744  ...  11.6547   7.7178  9.3558  7.5026  10.2106   8.9278  10.2466   \n",
       "3   10.0544  ...  11.9372  11.2369  6.5860  9.1668  10.3315   9.7551  11.4392   \n",
       "4    9.0443  ...  13.2541  11.8221  9.5261  7.4231  11.2862   9.8992  10.4067   \n",
       "5    8.3383  ...  11.6416  11.5142  6.5539  7.8319  11.0100  10.1013  11.2682   \n",
       "\n",
       "      f6998   f6999   f7000  \n",
       "id                           \n",
       "1   11.8648  8.4341  6.7618  \n",
       "2   11.3329  7.8209  7.4350  \n",
       "3   10.7036  8.0041  8.5380  \n",
       "4   11.9044  7.9843  8.5370  \n",
       "5   10.8969  8.1959  8.2906  \n",
       "\n",
       "[5 rows x 7001 columns]"
      ]
     },
     "execution_count": 2,
     "metadata": {},
     "output_type": "execute_result"
    }
   ],
   "source": [
    "ms_df = pd.read_csv('genedata.csv', index_col = 0)\n",
    "ms_df.head()"
   ]
  },
  {
   "cell_type": "code",
   "execution_count": 3,
   "metadata": {},
   "outputs": [
    {
     "name": "stdout",
     "output_type": "stream",
     "text": [
      "ms dataframe has 0 columns with missing values.\n"
     ]
    }
   ],
   "source": [
    "ms_cols_with_missing = [col for col in ms_df.columns if ms_df[col].isnull().any()]\n",
    "\n",
    "print(\"ms dataframe has \"+str(len(ms_cols_with_missing))+\" columns with missing values.\")"
   ]
  },
  {
   "cell_type": "code",
   "execution_count": 4,
   "metadata": {},
   "outputs": [],
   "source": [
    "if len(ms_df.columns) == 7001:\n",
    "    true_labels = ms_df['class']\n",
    "    ms_df = ms_df.drop('class',axis=1)"
   ]
  },
  {
   "cell_type": "code",
   "execution_count": 5,
   "metadata": {},
   "outputs": [
    {
     "name": "stdout",
     "output_type": "stream",
     "text": [
      "[[ 2.3383 10.544  11.4653 ... 11.8648  8.4341  6.7618]\n",
      " [ 3.9151  9.5815 10.3992 ... 11.3329  7.8209  7.435 ]\n",
      " [ 2.9322  9.3102 11.0756 ... 10.7036  8.0041  8.538 ]\n",
      " ...\n",
      " [ 4.6489  9.0206 10.6455 ... 11.4399  8.3824  8.2929]\n",
      " [ 3.3839 10.6693 11.4684 ... 11.5674  8.3261  9.6444]\n",
      " [ 3.1952  9.5168 10.8056 ... 10.8684  8.3932  8.6758]]\n"
     ]
    }
   ],
   "source": [
    "ms = ms_df.to_numpy()\n",
    "ms = ms.astype(np.float)\n",
    "print(ms)"
   ]
  },
  {
   "cell_type": "markdown",
   "metadata": {},
   "source": [
    "## Pre-processing"
   ]
  },
  {
   "cell_type": "code",
   "execution_count": 6,
   "metadata": {},
   "outputs": [],
   "source": [
    "from sklearn.preprocessing import StandardScaler\n",
    "from sklearn.preprocessing import MaxAbsScaler\n",
    "from sklearn.decomposition import PCA\n",
    "from sklearn.metrics.pairwise import cosine_similarity\n",
    "from sklearn.metrics.pairwise import euclidean_distances\n",
    "from sklearn.neighbors import DistanceMetric"
   ]
  },
  {
   "cell_type": "code",
   "execution_count": 7,
   "metadata": {},
   "outputs": [],
   "source": [
    "ss = StandardScaler()\n",
    "ms_ss = ss.fit_transform(ms)"
   ]
  },
  {
   "cell_type": "code",
   "execution_count": 8,
   "metadata": {},
   "outputs": [],
   "source": [
    "mas = MaxAbsScaler()\n",
    "ms_mas = mas.fit_transform(ms)"
   ]
  },
  {
   "cell_type": "code",
   "execution_count": 9,
   "metadata": {},
   "outputs": [],
   "source": [
    "ms_cs = cosine_similarity(ms)\n",
    "ms_cs_ss = cosine_similarity(ms_ss)\n",
    "ms_cs_mas = cosine_similarity(ms_mas)"
   ]
  },
  {
   "cell_type": "code",
   "execution_count": 10,
   "metadata": {},
   "outputs": [],
   "source": [
    "def euclidean_similarity(data):\n",
    "    return 1/(1+euclidean_distances(data, data))"
   ]
  },
  {
   "cell_type": "code",
   "execution_count": 11,
   "metadata": {},
   "outputs": [],
   "source": [
    "ms_ed = euclidean_similarity(ms)\n",
    "ms_ed_ss = euclidean_similarity(ms_ss)\n",
    "ms_ed_mas = euclidean_similarity(ms_mas)"
   ]
  },
  {
   "cell_type": "markdown",
   "metadata": {},
   "source": [
    "## Clustering"
   ]
  },
  {
   "cell_type": "code",
   "execution_count": 12,
   "metadata": {},
   "outputs": [],
   "source": [
    "from sklearn.cluster import KMeans\n",
    "from sklearn.metrics.cluster import normalized_mutual_info_score\n",
    "from sklearn.cluster import SpectralClustering\n",
    "from sklearn.cluster import AgglomerativeClustering"
   ]
  },
  {
   "cell_type": "code",
   "execution_count": 13,
   "metadata": {},
   "outputs": [],
   "source": [
    "def get_nmi(labels1,labels2):\n",
    "    return normalized_mutual_info_score(labels1,labels2,average_method='geometric')"
   ]
  },
  {
   "cell_type": "markdown",
   "metadata": {},
   "source": [
    "### K-Means"
   ]
  },
  {
   "cell_type": "code",
   "execution_count": 14,
   "metadata": {},
   "outputs": [],
   "source": [
    "def perform_KMeans(data):\n",
    "    kmeans_list = []\n",
    "    for i in range(2,9):\n",
    "        kmeans = KMeans(n_clusters=i).fit(data)\n",
    "        labels = kmeans.labels_\n",
    "        kmeans_list.append((i,get_nmi(true_labels,labels),labels))\n",
    "    sorted_kmeans_list = sorted(kmeans_list, key=lambda x:x[1], reverse=True)\n",
    "    return sorted_kmeans_list"
   ]
  },
  {
   "cell_type": "code",
   "execution_count": 15,
   "metadata": {},
   "outputs": [],
   "source": [
    "kmeans_0 = perform_KMeans(ms)\n",
    "kmeans_ss = perform_KMeans(ms_ss)\n",
    "kmeans_mas = perform_KMeans(ms_mas)"
   ]
  },
  {
   "cell_type": "code",
   "execution_count": 16,
   "metadata": {
    "scrolled": true
   },
   "outputs": [
    {
     "name": "stdout",
     "output_type": "stream",
     "text": [
      "0\n",
      "(6, 0.8828472279219505)\n",
      "(5, 0.7983131078494884)\n",
      "(5, 0.8457603627237771)\n",
      "1\n",
      "(5, 0.8569187368299778)\n",
      "(8, 0.7820601648362181)\n",
      "(7, 0.8441523317105245)\n",
      "2\n",
      "(7, 0.8563370586397301)\n",
      "(7, 0.7740531891086693)\n",
      "(6, 0.8255713528147901)\n"
     ]
    }
   ],
   "source": [
    "for i in range(3):\n",
    "    print(i)\n",
    "    print(kmeans_0[i][0:2])\n",
    "    print(kmeans_ss[i][0:2])\n",
    "    print(kmeans_mas[i][0:2])"
   ]
  },
  {
   "cell_type": "markdown",
   "metadata": {},
   "source": [
    "### Hierarchical"
   ]
  },
  {
   "cell_type": "code",
   "execution_count": 17,
   "metadata": {},
   "outputs": [],
   "source": [
    "def perform_hierarchical(data,linkage):\n",
    "    hier_list = []\n",
    "    for i in range(2,9):\n",
    "        hier = AgglomerativeClustering(n_clusters=i,linkage=linkage).fit(data)\n",
    "        labels = hier.labels_\n",
    "        hier_list.append((i,get_nmi(true_labels,labels),labels))\n",
    "    sorted_hier_list = sorted(hier_list, key=lambda x:x[1], reverse=True)\n",
    "    return sorted_hier_list        "
   ]
  },
  {
   "cell_type": "code",
   "execution_count": 18,
   "metadata": {},
   "outputs": [
    {
     "name": "stdout",
     "output_type": "stream",
     "text": [
      "ward\n",
      "complete\n",
      "average\n",
      "single\n"
     ]
    }
   ],
   "source": [
    "linkages = ['ward','complete','average','single']\n",
    "hier_0 = []\n",
    "hier_ss = []\n",
    "hier_mas = []\n",
    "for linkage in linkages:\n",
    "    print(linkage)\n",
    "    hier_0.append((linkage,perform_hierarchical(ms,linkage)))\n",
    "    hier_ss.append((linkage,perform_hierarchical(ms_ss,linkage)))\n",
    "    hier_mas.append((linkage,perform_hierarchical(ms_mas,linkage)))"
   ]
  },
  {
   "cell_type": "code",
   "execution_count": 19,
   "metadata": {},
   "outputs": [
    {
     "name": "stdout",
     "output_type": "stream",
     "text": [
      "============================================\n",
      "ward\n",
      "0\n",
      "(6, 0.9179157442581702)\n",
      "(7, 0.8878777908498132)\n",
      "(5, 0.8775855633609511)\n",
      "ss\n",
      "(7, 0.8378882021311446)\n",
      "(8, 0.8282447174039829)\n",
      "(6, 0.8169633520573191)\n",
      "mas\n",
      "(7, 0.88845314017232)\n",
      "(6, 0.8512060961094837)\n",
      "(5, 0.8480166279599085)\n",
      "============================================\n",
      "complete\n",
      "0\n",
      "(8, 0.6100507558366003)\n",
      "(7, 0.6003261469427305)\n",
      "(6, 0.5402558200309042)\n",
      "ss\n",
      "(8, 0.5083856029139342)\n",
      "(7, 0.49403066238187526)\n",
      "(6, 0.3202895588179002)\n",
      "mas\n",
      "(8, 0.6181491399834758)\n",
      "(7, 0.5279598097586954)\n",
      "(5, 0.30224608670436504)\n",
      "============================================\n",
      "average\n",
      "0\n",
      "(8, 0.046350697557658097)\n",
      "(7, 0.04604423405299482)\n",
      "(6, 0.040272133718214496)\n",
      "ss\n",
      "(8, 0.0765473397628901)\n",
      "(7, 0.07449474820534495)\n",
      "(6, 0.0378143980614158)\n",
      "mas\n",
      "(8, 0.0493062446937199)\n",
      "(7, 0.04404218670429313)\n",
      "(6, 0.040329542969028694)\n",
      "============================================\n",
      "single\n",
      "0\n",
      "(8, 0.03600217293124191)\n",
      "(7, 0.03468494456958169)\n",
      "(6, 0.03005573358925145)\n",
      "ss\n",
      "(8, 0.03600217293124191)\n",
      "(7, 0.03155397027375823)\n",
      "(6, 0.02995737119846597)\n",
      "mas\n",
      "(8, 0.03600217293124191)\n",
      "(7, 0.031643766137050604)\n",
      "(6, 0.03005573358925145)\n"
     ]
    }
   ],
   "source": [
    "for i in range(4):\n",
    "    print(\"============================================\")\n",
    "    print(linkages[i])\n",
    "    print(\"0\")\n",
    "    for j in range(3):\n",
    "        print(hier_0[i][1][j][0:2])\n",
    "    print(\"ss\")\n",
    "    for j in range(3):\n",
    "        print(hier_ss[i][1][j][0:2])\n",
    "    print(\"mas\")\n",
    "    for j in range(3):\n",
    "        print(hier_mas[i][1][j][0:2])"
   ]
  },
  {
   "cell_type": "markdown",
   "metadata": {},
   "source": [
    "### Spectral "
   ]
  },
  {
   "cell_type": "markdown",
   "metadata": {},
   "source": [
    "#### Nearest Neighbor"
   ]
  },
  {
   "cell_type": "code",
   "execution_count": 20,
   "metadata": {},
   "outputs": [],
   "source": [
    "def perform_spectral_nn(data):\n",
    "    spectral_list = []\n",
    "    for nc in range(2,8):\n",
    "        for nn in range(5,9,2):\n",
    "            spectral = SpectralClustering(n_clusters=nc, affinity='nearest_neighbors',n_neighbors=nn,n_jobs=3).fit(data)\n",
    "            labels = spectral.labels_\n",
    "            spectral_list.append((nc,nn,get_nmi(true_labels,labels),labels))\n",
    "    sorted_spectral_list = sorted(spectral_list, key=lambda x:x[2], reverse=True)\n",
    "    return sorted_spectral_list "
   ]
  },
  {
   "cell_type": "code",
   "execution_count": 21,
   "metadata": {
    "scrolled": true
   },
   "outputs": [],
   "source": [
    "spectral_0 = perform_spectral_nn(ms)\n",
    "spectral_ss = perform_spectral_nn(ms_ss)\n",
    "spectral_mas = perform_spectral_nn(ms_mas)"
   ]
  },
  {
   "cell_type": "code",
   "execution_count": 22,
   "metadata": {},
   "outputs": [
    {
     "name": "stdout",
     "output_type": "stream",
     "text": [
      "0\n",
      "(5, 5, 0.9847702095491678)\n",
      "(5, 7, 0.9762785050842379)\n",
      "(6, 5, 0.937244416777298)\n",
      "ss\n",
      "(5, 7, 0.9665000951941086)\n",
      "(5, 5, 0.9485802550113134)\n",
      "(6, 7, 0.9247786084922212)\n",
      "mas\n",
      "(5, 7, 0.9774353402417695)\n",
      "(5, 5, 0.9759616118626921)\n",
      "(6, 5, 0.9323883209786678)\n"
     ]
    }
   ],
   "source": [
    "print(\"0\")\n",
    "for i in range(3):\n",
    "    print(spectral_0[i][0:3])\n",
    "\n",
    "print(\"ss\")\n",
    "for i in range(3):\n",
    "    print(spectral_ss[i][0:3])\n",
    "\n",
    "print(\"mas\")\n",
    "for i in range(3):\n",
    "    print(spectral_mas[i][0:3])"
   ]
  },
  {
   "cell_type": "markdown",
   "metadata": {},
   "source": [
    "#### RBF"
   ]
  },
  {
   "cell_type": "code",
   "execution_count": 23,
   "metadata": {},
   "outputs": [],
   "source": [
    "def perform_spectral_rbf(data):\n",
    "    spectral_list = []\n",
    "    for nc in range(2,8):\n",
    "        spectral = SpectralClustering(n_clusters=nc, affinity='rbf',n_jobs=3).fit(data)\n",
    "        labels = spectral.labels_\n",
    "        spectral_list.append((nc,get_nmi(true_labels,labels),labels))\n",
    "    sorted_spectral_list = sorted(spectral_list, key=lambda x:x[1], reverse=True)\n",
    "    return sorted_spectral_list "
   ]
  },
  {
   "cell_type": "code",
   "execution_count": 24,
   "metadata": {},
   "outputs": [
    {
     "name": "stderr",
     "output_type": "stream",
     "text": [
      "C:\\ProgramData\\Anaconda3\\lib\\site-packages\\sklearn\\manifold\\_spectral_embedding.py:236: UserWarning: Graph is not fully connected, spectral embedding may not work as expected.\n",
      "  warnings.warn(\"Graph is not fully connected, spectral embedding\"\n",
      "C:\\ProgramData\\Anaconda3\\lib\\site-packages\\sklearn\\manifold\\_spectral_embedding.py:236: UserWarning: Graph is not fully connected, spectral embedding may not work as expected.\n",
      "  warnings.warn(\"Graph is not fully connected, spectral embedding\"\n",
      "C:\\ProgramData\\Anaconda3\\lib\\site-packages\\sklearn\\manifold\\_spectral_embedding.py:236: UserWarning: Graph is not fully connected, spectral embedding may not work as expected.\n",
      "  warnings.warn(\"Graph is not fully connected, spectral embedding\"\n",
      "C:\\ProgramData\\Anaconda3\\lib\\site-packages\\sklearn\\manifold\\_spectral_embedding.py:236: UserWarning: Graph is not fully connected, spectral embedding may not work as expected.\n",
      "  warnings.warn(\"Graph is not fully connected, spectral embedding\"\n",
      "C:\\ProgramData\\Anaconda3\\lib\\site-packages\\sklearn\\manifold\\_spectral_embedding.py:236: UserWarning: Graph is not fully connected, spectral embedding may not work as expected.\n",
      "  warnings.warn(\"Graph is not fully connected, spectral embedding\"\n",
      "C:\\ProgramData\\Anaconda3\\lib\\site-packages\\sklearn\\manifold\\_spectral_embedding.py:236: UserWarning: Graph is not fully connected, spectral embedding may not work as expected.\n",
      "  warnings.warn(\"Graph is not fully connected, spectral embedding\"\n",
      "C:\\ProgramData\\Anaconda3\\lib\\site-packages\\sklearn\\manifold\\_spectral_embedding.py:236: UserWarning: Graph is not fully connected, spectral embedding may not work as expected.\n",
      "  warnings.warn(\"Graph is not fully connected, spectral embedding\"\n",
      "C:\\ProgramData\\Anaconda3\\lib\\site-packages\\sklearn\\manifold\\_spectral_embedding.py:236: UserWarning: Graph is not fully connected, spectral embedding may not work as expected.\n",
      "  warnings.warn(\"Graph is not fully connected, spectral embedding\"\n",
      "C:\\ProgramData\\Anaconda3\\lib\\site-packages\\sklearn\\manifold\\_spectral_embedding.py:236: UserWarning: Graph is not fully connected, spectral embedding may not work as expected.\n",
      "  warnings.warn(\"Graph is not fully connected, spectral embedding\"\n",
      "C:\\ProgramData\\Anaconda3\\lib\\site-packages\\sklearn\\manifold\\_spectral_embedding.py:236: UserWarning: Graph is not fully connected, spectral embedding may not work as expected.\n",
      "  warnings.warn(\"Graph is not fully connected, spectral embedding\"\n",
      "C:\\ProgramData\\Anaconda3\\lib\\site-packages\\sklearn\\manifold\\_spectral_embedding.py:236: UserWarning: Graph is not fully connected, spectral embedding may not work as expected.\n",
      "  warnings.warn(\"Graph is not fully connected, spectral embedding\"\n",
      "C:\\ProgramData\\Anaconda3\\lib\\site-packages\\sklearn\\manifold\\_spectral_embedding.py:236: UserWarning: Graph is not fully connected, spectral embedding may not work as expected.\n",
      "  warnings.warn(\"Graph is not fully connected, spectral embedding\"\n"
     ]
    }
   ],
   "source": [
    "spectral_rbf_0 = perform_spectral_rbf(ms)\n",
    "spectral_rbf_ss = perform_spectral_rbf(ms_ss)\n",
    "spectral_rbf_mas = perform_spectral_rbf(ms_mas)"
   ]
  },
  {
   "cell_type": "code",
   "execution_count": 25,
   "metadata": {},
   "outputs": [
    {
     "name": "stdout",
     "output_type": "stream",
     "text": [
      "0\n",
      "(7, 0.009210843866308958)\n",
      "(6, 0.008758700113573834)\n",
      "(5, 0.005220641092557486)\n",
      "ss\n",
      "(3, 0.00857213572828385)\n",
      "(7, 0.00809520481052549)\n",
      "(4, 0.00666139979900002)\n",
      "mas\n",
      "(7, 0.030949001742768982)\n",
      "(6, 0.03005573358925145)\n",
      "(5, 0.028462663673074918)\n"
     ]
    }
   ],
   "source": [
    "print(\"0\")\n",
    "for i in range(3):\n",
    "    print(spectral_rbf_0[i][0:2])\n",
    "\n",
    "print(\"ss\")\n",
    "for i in range(3):\n",
    "    print(spectral_rbf_ss[i][0:2])\n",
    "\n",
    "print(\"mas\") \n",
    "for i in range(3):\n",
    "    print(spectral_rbf_mas[i][0:2])"
   ]
  },
  {
   "cell_type": "markdown",
   "metadata": {},
   "source": [
    "#### Precomputed"
   ]
  },
  {
   "cell_type": "code",
   "execution_count": 26,
   "metadata": {},
   "outputs": [],
   "source": [
    "def perform_spectral_pc(data):\n",
    "    spectral_list = []\n",
    "    for nc in range(2,8):\n",
    "        spectral = SpectralClustering(n_clusters=nc, affinity='precomputed',n_jobs=3).fit(data)\n",
    "        labels = spectral.labels_\n",
    "        spectral_list.append((nc,get_nmi(true_labels,labels),labels))\n",
    "    sorted_spectral_list = sorted(spectral_list, key=lambda x:x[1], reverse=True)\n",
    "    return sorted_spectral_list "
   ]
  },
  {
   "cell_type": "code",
   "execution_count": 33,
   "metadata": {},
   "outputs": [],
   "source": [
    "spectral_pc_cs = perform_spectral_pc(ms_cs)\n",
    "#spectral_pc_cs_ss = perform_spectral_pc(ms_cs_ss)\n",
    "spectral_pc_cs_mas = perform_spectral_pc(ms_cs_mas)\n",
    "spectral_pc_ed = perform_spectral_pc(ms_ed)\n",
    "spectral_pc_ed_ss = perform_spectral_pc(ms_ed_ss)\n",
    "spectral_pc_ed_mas = perform_spectral_pc(ms_ed_mas)"
   ]
  },
  {
   "cell_type": "code",
   "execution_count": 35,
   "metadata": {},
   "outputs": [
    {
     "name": "stdout",
     "output_type": "stream",
     "text": [
      "cs 0\n",
      "(6, 0.7780467277505074)\n",
      "(4, 0.7543911337633787)\n",
      "(7, 0.7532927018460793)\n",
      "cs mas\n",
      "(6, 0.7541808973568883)\n",
      "(7, 0.730176447667632)\n",
      "(5, 0.7131529597979378)\n",
      "ed 0\n",
      "(5, 0.8058333037259116)\n",
      "(6, 0.7327814681446791)\n",
      "(7, 0.7264881394798037)\n",
      "ed ss\n",
      "(7, 0.662545887933534)\n",
      "(3, 0.651418154812908)\n",
      "(6, 0.6189748931899598)\n",
      "ed mas\n",
      "(5, 0.7588423453942449)\n",
      "(6, 0.7119441548736841)\n",
      "(4, 0.7006921375277986)\n"
     ]
    }
   ],
   "source": [
    "print(\"cs 0\")\n",
    "for i in range(3):\n",
    "    print(spectral_pc_cs[i][0:2])\n",
    "#print(spectral_pc_cs_ss[0][0:2])\n",
    "print(\"cs mas\")\n",
    "for i in range(3):\n",
    "    print(spectral_pc_cs_mas[i][0:2])\n",
    "print(\"ed 0\")\n",
    "for i in range(3):\n",
    "    print(spectral_pc_ed[i][0:2])\n",
    "print(\"ed ss\")\n",
    "for i in range(3):\n",
    "    print(spectral_pc_ed_ss[i][0:2])\n",
    "print(\"ed mas\")\n",
    "for i in range(3):\n",
    "    print(spectral_pc_ed_mas[i][0:2])"
   ]
  },
  {
   "cell_type": "markdown",
   "metadata": {},
   "source": [
    "# BEST METHOD"
   ]
  },
  {
   "cell_type": "markdown",
   "metadata": {},
   "source": [
    "No Preprocessing  + Spectral Clustering + Nearest Neighbors (5 clusters, 5 neighbors)"
   ]
  },
  {
   "cell_type": "code",
   "execution_count": null,
   "metadata": {},
   "outputs": [],
   "source": []
  }
 ],
 "metadata": {
  "kernelspec": {
   "display_name": "Python 3",
   "language": "python",
   "name": "python3"
  },
  "language_info": {
   "codemirror_mode": {
    "name": "ipython",
    "version": 3
   },
   "file_extension": ".py",
   "mimetype": "text/x-python",
   "name": "python",
   "nbconvert_exporter": "python",
   "pygments_lexer": "ipython3",
   "version": "3.8.3"
  }
 },
 "nbformat": 4,
 "nbformat_minor": 4
}
